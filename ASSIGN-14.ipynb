{
 "cells": [
  {
   "cell_type": "markdown",
   "id": "2d4a7cf3-d070-444b-9e92-b5a27b0da0c1",
   "metadata": {},
   "source": [
    "# Q1.what is multithreading in python? hy is it used? Name the module used to handle threads in python ?\n"
   ]
  },
  {
   "cell_type": "markdown",
   "id": "9392b784-7143-4723-81ce-d2b72a1cb41b",
   "metadata": {},
   "source": [
    "# ANS\n",
    "Multithreading is a programming technique that allows a program to run multiple threads (subprocesses) concurrently within a single process. In Python, threads are used to perform multiple tasks at the same time, thereby making programs more efficient and responsive.\n",
    "\n",
    "Multithreading is useful when a program has to perform multiple tasks simultaneously or when one task takes a long time to complete and we don't want it to block other parts of the program. By using threads, we can execute multiple tasks concurrently, thereby reducing the overall time required to complete the program.\n",
    "\n",
    "The threading module is used to handle threads in Python. It provides a simple way to create, start, and manage threads in Python programs. The threading module provides several functions and classes to create and manage threads, such as Thread, Lock, RLock, Semaphore, Event, and Condition.\n",
    "\n",
    "To use the threading module, you need to import it using the following statement at the beginning of your Python program:"
   ]
  },
  {
   "cell_type": "markdown",
   "id": "2ce4129d-c0c7-42ef-adc3-9ee3bf73b5f9",
   "metadata": {},
   "source": [
    "import threading\n",
    "\n",
    "After importing the threading module, you can create a new thread by creating an instance of the Thread class and passing a callable object (usually a function) as an argument. You can then start the thread using the start() method."
   ]
  },
  {
   "cell_type": "markdown",
   "id": "5fd26b9e-8679-4eef-9a03-e89c98fafe76",
   "metadata": {},
   "source": [
    "# Q2.Why threading module used? rite the use of the following  functions ?\n",
    "\n",
    "1.activeCount()\n",
    "\n",
    "2.currentThread()\n",
    "\n",
    "3.enumerate()"
   ]
  },
  {
   "cell_type": "markdown",
   "id": "dcf5bb81-ee0b-4374-85cd-039cac2ae3f4",
   "metadata": {},
   "source": [
    "# ANS\n",
    "The threading module is used in Python to create, manage, and control threads. It provides a way to perform multiple tasks simultaneously within a single program. Threading is used in Python to improve the performance of programs that need to perform multiple tasks at the same time.\n",
    "\n",
    "Here are the uses of the following functions in the threading module:\n",
    "\n",
    "1.activeCount(): This function returns the number of thread objects that are currently active. An active thread is a thread that has been created but has not yet finished executing or terminated. This function can be useful in monitoring the status of threads in a program.\n",
    "\n",
    "2.currentThread(): This function returns a reference to the current thread object. The thread object returned represents the thread that is currently executing the function. This function is useful when you need to access information about the current thread, such as its name or identifier.\n",
    "\n",
    "3.enumerate(): This function returns a list of all active thread objects in the current program. Each thread object in the list represents a thread that has been created but has not yet finished executing or terminated. This function can be useful when you need to monitor the status of multiple threads in a program or when you need to terminate all threads at once."
   ]
  },
  {
   "cell_type": "markdown",
   "id": "38d1cc40-6bb9-4014-a580-251fbaf3f306",
   "metadata": {},
   "source": [
    " # Q3. Explain the following functions ?\n",
    "1.run()\n",
    "\n",
    "2.start()\n",
    "\n",
    "3.join ()\n",
    "\n",
    "4.isAlive()"
   ]
  },
  {
   "cell_type": "markdown",
   "id": "cdac7f95-bc9a-4e7d-ae03-4099d1d20214",
   "metadata": {},
   "source": [
    "# ANS\n",
    "\n",
    "The following are important functions provided by the Thread class in the threading module in Python:\n",
    "\n",
    "1.run(): This function is the entry point for the thread. It defines the code to be executed when the thread is started. You should override this function in your custom thread class to specify the code that the thread should run.\n",
    "\n",
    "2.start(): This function starts the execution of the thread by calling the run() function. When this function is called, a new thread is created and the run() function is executed in that thread. It is important to note that start() does not wait for the thread to finish executing, it simply starts the thread and returns immediately.\n",
    "\n",
    "3.join(): This function waits for the thread to complete its execution. When this function is called, the calling thread is blocked until the thread being joined completes its execution. This function is useful when you need to synchronize the execution of multiple threads.\n",
    "\n",
    "4.isAlive(): This function returns True if the thread is currently executing and False otherwise. A thread is considered alive if it has been started but has not yet completed its execution or terminated. This function can be useful when you need to check the status of a thread before calling join().\n",
    "\n",
    "It is important to note that you should never call the run() function directly. Always call the start() function to start a new thread. The join() function is often used after calling start() to wait for the thread to complete its execution. The isAlive() function is useful when you need to check if a thread is still running or has completed its execution."
   ]
  },
  {
   "cell_type": "markdown",
   "id": "9a4ab24b-9c60-46c9-ae4c-8a20256422d2",
   "metadata": {},
   "source": [
    "# Write a python program to create two threads. Thread one must print the list of squares and thread two must print the list of cubes ?"
   ]
  },
  {
   "cell_type": "code",
   "execution_count": 2,
   "id": "cf684bd9-3e94-45fa-a375-5a00be35d973",
   "metadata": {},
   "outputs": [
    {
     "name": "stdout",
     "output_type": "stream",
     "text": [
      "1 squared is 1\n",
      "2 squared is 4\n",
      "3 squared is 9\n",
      "4 squared is 16\n",
      "5 squared is 25\n",
      "1 cubed is 1\n",
      "2 cubed is 8\n",
      "3 cubed is 27\n",
      "4 cubed is 64\n",
      "5 cubed is 125\n",
      "Done\n"
     ]
    }
   ],
   "source": [
    "# ANS\n",
    "import threading\n",
    "\n",
    "def print_squares():\n",
    "    for i in range(1, 6):\n",
    "        print(f\"{i} squared is {i*i}\")\n",
    "\n",
    "def print_cubes():\n",
    "    for i in range(1, 6):\n",
    "        print(f\"{i} cubed is {i*i*i}\")\n",
    "\n",
    "# Create two threads\n",
    "t1 = threading.Thread(target=print_squares)\n",
    "t2 = threading.Thread(target=print_cubes)\n",
    "\n",
    "# Start the threads\n",
    "t1.start()\n",
    "t2.start()\n",
    "\n",
    "# Wait for the threads to finish\n",
    "t1.join()\n",
    "t2.join()\n",
    "\n",
    "print(\"Done\")\n"
   ]
  },
  {
   "cell_type": "markdown",
   "id": "c425c997-6d18-47d4-9df4-0c0957634900",
   "metadata": {},
   "source": [
    "# Q5. State advantages and disadvantages of multithreading ?"
   ]
  },
  {
   "cell_type": "markdown",
   "id": "29e23d20-cfd7-4de3-85f3-6a458231506d",
   "metadata": {
    "jp-MarkdownHeadingCollapsed": true,
    "tags": []
   },
   "source": [
    "# ANS\n",
    "Multithreading has several advantages and disadvantages:\n",
    "\n",
    "# Advantages:\n",
    "\n",
    "Improved performance: Multithreading allows a program to perform multiple tasks simultaneously, which can improve the overall performance and efficiency of the program.\n",
    "\n",
    "Responsiveness: Multithreading can help a program respond to user input more quickly. For example, a program with a user interface can use a separate thread to handle user input while another thread is performing a long-running task.\n",
    "\n",
    "Resource sharing: Multithreading allows multiple threads to share resources such as memory, files, and network connections, which can lead to better resource utilization.\n",
    "\n",
    "Simplified programming: Multithreading can simplify the programming of complex applications that require multiple tasks to be performed concurrently.\n",
    "\n",
    "# Disadvantages:\n",
    "\n",
    "Increased complexity: Multithreading can make a program more complex and harder to debug due to the potential for race conditions, deadlocks, and other synchronization issues.\n",
    "\n",
    "Resource contention: Multithreading can lead to resource contention issues, such as multiple threads trying to access the same resource simultaneously, which can cause performance problems and lead to synchronization issues.\n",
    "\n",
    "Overhead: Multithreading introduces overhead due to the additional context switching and synchronization required between threads. This overhead can reduce the performance gains that would otherwise be achieved through multithreading.\n",
    "\n",
    "Difficulty in debugging: Debugging multithreaded programs is often more difficult than debugging single-threaded programs. In particular, it can be difficult to reproduce and diagnose synchronization issues and race conditions that can occur when multiple threads access shared resources.\n",
    "\n"
   ]
  }
 ],
 "metadata": {
  "kernelspec": {
   "display_name": "Python 3 (ipykernel)",
   "language": "python",
   "name": "python3"
  },
  "language_info": {
   "codemirror_mode": {
    "name": "ipython",
    "version": 3
   },
   "file_extension": ".py",
   "mimetype": "text/x-python",
   "name": "python",
   "nbconvert_exporter": "python",
   "pygments_lexer": "ipython3",
   "version": "3.10.8"
  }
 },
 "nbformat": 4,
 "nbformat_minor": 5
}
